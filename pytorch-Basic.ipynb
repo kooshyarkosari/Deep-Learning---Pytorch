{
 "cells": [
  {
   "cell_type": "markdown",
   "id": "5ba38889",
   "metadata": {},
   "source": [
    "### Gradient Calculation With Autograd"
   ]
  },
  {
   "cell_type": "code",
   "execution_count": 36,
   "id": "5a15434c",
   "metadata": {},
   "outputs": [],
   "source": [
    "import torch\n",
    "import torch.nn as nn"
   ]
  },
  {
   "cell_type": "code",
   "execution_count": 3,
   "id": "1ede9970",
   "metadata": {},
   "outputs": [
    {
     "name": "stdout",
     "output_type": "stream",
     "text": [
      "tensor([0.3895, 0.4486, 0.8160], requires_grad=True)\n"
     ]
    }
   ],
   "source": [
    "x= torch.rand(3,requires_grad=True)\n",
    "print(x)"
   ]
  },
  {
   "cell_type": "code",
   "execution_count": 4,
   "id": "91c43a6d",
   "metadata": {},
   "outputs": [
    {
     "name": "stdout",
     "output_type": "stream",
     "text": [
      "tensor([2.3895, 2.4486, 2.8160], grad_fn=<AddBackward0>)\n"
     ]
    }
   ],
   "source": [
    "y=x+2\n",
    "print(y)"
   ]
  },
  {
   "cell_type": "code",
   "execution_count": 11,
   "id": "cb2be010",
   "metadata": {},
   "outputs": [
    {
     "name": "stdout",
     "output_type": "stream",
     "text": [
      "tensor([11.4195, 11.9917, 15.8597], grad_fn=<MulBackward0>)\n"
     ]
    }
   ],
   "source": [
    "z= y*y*2\n",
    "#z=z.mean()\n",
    "print(z)"
   ]
  },
  {
   "cell_type": "code",
   "execution_count": 12,
   "id": "5fff61e6",
   "metadata": {},
   "outputs": [
    {
     "name": "stdout",
     "output_type": "stream",
     "text": [
      "tensor([ 4.1418, 13.0595,  3.7659])\n"
     ]
    }
   ],
   "source": [
    "v= torch.tensor([0.1,1.0,0.001],dtype = torch.float32)\n",
    "z.backward(v)\n",
    "print(x.grad)"
   ]
  },
  {
   "cell_type": "code",
   "execution_count": 16,
   "id": "94015c51",
   "metadata": {},
   "outputs": [
    {
     "name": "stdout",
     "output_type": "stream",
     "text": [
      "tensor([2.3895, 2.4486, 2.8160])\n"
     ]
    }
   ],
   "source": [
    "#x.requires_grad_(False)\n",
    "#x.detach\n",
    "#with torch.no_grad():\n",
    "\n",
    "with torch.no_grad():\n",
    "    y= x+2\n",
    "    print(y)"
   ]
  },
  {
   "cell_type": "code",
   "execution_count": 20,
   "id": "57288b78",
   "metadata": {},
   "outputs": [
    {
     "name": "stdout",
     "output_type": "stream",
     "text": [
      "tensor([3., 3., 3., 3.])\n",
      "tensor([3., 3., 3., 3.])\n",
      "tensor([3., 3., 3., 3.])\n"
     ]
    }
   ],
   "source": [
    "wights =torch.ones(4, requires_grad= True)\n",
    "\n",
    "for epoch in range(3):\n",
    "    model_output = (wights*3).sum()\n",
    "    model_output.backward()\n",
    "    print(wights.grad)\n",
    "    \n",
    "    wights.grad.zero_()\n",
    "    "
   ]
  },
  {
   "cell_type": "code",
   "execution_count": null,
   "id": "2642ce5a",
   "metadata": {},
   "outputs": [],
   "source": [
    "optimizer = torch.optim.SGD(wights,lr=0.01)\n",
    "optimizer.step()\n",
    "optimizer.zero_grad()"
   ]
  },
  {
   "cell_type": "markdown",
   "id": "f0c84d3c",
   "metadata": {},
   "source": [
    "### Backpropagation"
   ]
  },
  {
   "cell_type": "code",
   "execution_count": 24,
   "id": "ee202ee6",
   "metadata": {},
   "outputs": [
    {
     "name": "stdout",
     "output_type": "stream",
     "text": [
      "tensor(1., grad_fn=<PowBackward0>)\n",
      "tensor(-2.)\n"
     ]
    }
   ],
   "source": [
    "x=torch.tensor(1.0)\n",
    "y=torch.tensor(2.0)\n",
    "w=torch.tensor(1.0,requires_grad=True)\n",
    "\n",
    "# forward pass and compute the loss\n",
    "\n",
    "y_hat=w*x\n",
    "\n",
    "loss = (y_hat-y)**2\n",
    "\n",
    "print(loss)\n",
    "\n",
    "# backward pass\n",
    "\n",
    "loss.backward()\n",
    "print(w.grad)\n",
    "\n",
    "# update wights\n",
    "# next forward and backwards\n"
   ]
  },
  {
   "cell_type": "markdown",
   "id": "d8736efd",
   "metadata": {},
   "source": [
    "### Gradient Descent with Autograd and Backpropagation"
   ]
  },
  {
   "cell_type": "code",
   "execution_count": 35,
   "id": "c17d49bb",
   "metadata": {},
   "outputs": [
    {
     "name": "stdout",
     "output_type": "stream",
     "text": [
      "Prediction befor training: f(5)=0.000\n",
      "epoch 1: w=0.300,loss=30.000000\n",
      "epoch 11: w=1.665,loss=1.162786\n",
      "epoch 21: w=1.934,loss=0.045069\n",
      "epoch 31: w=1.987,loss=0.001747\n",
      "epoch 41: w=1.997,loss=0.000068\n",
      "epoch 51: w=1.999,loss=0.000003\n",
      "epoch 61: w=2.000,loss=0.000000\n",
      "epoch 71: w=2.000,loss=0.000000\n",
      "epoch 81: w=2.000,loss=0.000000\n",
      "epoch 91: w=2.000,loss=0.000000\n",
      "prediction after training :f(5)=10.000\n"
     ]
    }
   ],
   "source": [
    "import numpy as np\n",
    "\n",
    "# f = w * x\n",
    "\n",
    "# f = 2 * x\n",
    "\n",
    "X= torch.tensor([1,2,3,4],dtype=torch.float32)\n",
    "Y= torch.tensor([2,4,6,8],dtype=torch.float32)\n",
    "\n",
    "w=torch.tensor(0.0,dtype=torch.float32, requires_grad=True)\n",
    "\n",
    "# model prediction\n",
    "\n",
    "def forward(x):\n",
    "    return w*x\n",
    "\n",
    "\n",
    "# loss = Mse\n",
    "def loss(y,y_predicted):\n",
    "    return((y_predicted-y)**2).mean()\n",
    "\n",
    "\n",
    "\n",
    "print(f'Prediction befor training: f(5)={forward(5):.3f}')\n",
    "\n",
    "# Training \n",
    "\n",
    "learning_rate =0.01\n",
    "n_iters =100\n",
    "\n",
    "for epoch in range(n_iters):\n",
    "    \n",
    "    # prediction = forward pass\n",
    "    y_pred = forward(X)\n",
    "    \n",
    "    # loss\n",
    "    l = loss(Y,y_pred)\n",
    "    \n",
    "    # gradient = backward pass\n",
    "    l.backward()\n",
    "    \n",
    "    # update weights\n",
    "    with torch.no_grad():\n",
    "        w -= learning_rate*w.grad\n",
    "    w.grad.zero_()\n",
    "    \n",
    "    if epoch % 10==0:\n",
    "        print(f'epoch {epoch+1}: w={w:.3f},loss={l:8f}')\n",
    "print(f'prediction after training :f(5)={forward(5):.3f}')"
   ]
  },
  {
   "cell_type": "markdown",
   "id": "04ef6e8a",
   "metadata": {},
   "source": [
    "### Training Pipeline: Model, Loss, and Optimizer"
   ]
  },
  {
   "cell_type": "code",
   "execution_count": 46,
   "id": "2c91174e",
   "metadata": {},
   "outputs": [
    {
     "name": "stdout",
     "output_type": "stream",
     "text": [
      "4 1\n",
      "Prediction befor training: f(5)=0.873\n",
      "epoch 1: w=0.400,loss=24.201897\n",
      "epoch 11: w=1.532,loss=0.716328\n",
      "epoch 21: w=1.720,loss=0.103452\n",
      "epoch 31: w=1.756,loss=0.082653\n",
      "epoch 41: w=1.768,loss=0.077460\n",
      "epoch 51: w=1.776,loss=0.072941\n",
      "epoch 61: w=1.782,loss=0.068696\n",
      "epoch 71: w=1.789,loss=0.064697\n",
      "epoch 81: w=1.795,loss=0.060931\n",
      "epoch 91: w=1.801,loss=0.057385\n",
      "prediction after training :f(5)=9.601\n"
     ]
    }
   ],
   "source": [
    "import numpy as np\n",
    "\n",
    "# f = w * x\n",
    "\n",
    "# f = 2 * x\n",
    "\n",
    "X= torch.tensor([[1],[2],[3],[4]],dtype=torch.float32)\n",
    "Y= torch.tensor([[2],[4],[6],[8]],dtype=torch.float32)\n",
    "\n",
    "X_test = torch.tensor([5],dtype=torch.float32)\n",
    "\n",
    "n_samples,n_features = X.shape\n",
    "print(n_samples,n_features)\n",
    "\n",
    "input_size=n_features\n",
    "output_size=n_features\n",
    "\n",
    "\n",
    "#model =nn.Linear(input_size,output_size)\n",
    "\n",
    "class LinearRegression(nn.Module):\n",
    "    \n",
    "    def __init__(self,input_dim,output_dim):\n",
    "        \n",
    "        super(LinearRegression,self).__init__()\n",
    "        \n",
    "        # define layers\n",
    "        self.lin =nn.Linear(input_dim,output_dim)\n",
    "    def forward(self,x):\n",
    "        return self.lin(x)\n",
    "              \n",
    "model = LinearRegression(input_size,output_size)\n",
    "\n",
    "\n",
    "\n",
    "print(f'Prediction befor training: f(5)={model(X_test).item():.3f}')\n",
    "\n",
    "# Training \n",
    "\n",
    "learning_rate =0.01\n",
    "n_iters =100\n",
    "\n",
    "loss =nn.MSELoss()\n",
    "optimiser=torch.optim.SGD(model.parameters(),lr=learning_rate)\n",
    "\n",
    "for epoch in range(n_iters):\n",
    "    \n",
    "    # prediction = forward pass\n",
    "    y_pred = model(X)\n",
    "    \n",
    "    # loss\n",
    "    l = loss(Y,y_pred)\n",
    "    \n",
    "    # gradient = backward pass\n",
    "    l.backward()\n",
    "    \n",
    "    # update weights\n",
    "    optimiser.step()\n",
    "    \n",
    "    optimiser.zero_grad()\n",
    "    \n",
    "    if epoch % 10==0:\n",
    "        [w,b]=model.parameters()\n",
    "        print(f'epoch {epoch+1}: w={w[0][0].item():.3f},loss={l:8f}')\n",
    "print(f'prediction after training :f(5)={model(X_test).item():.3f}')"
   ]
  },
  {
   "cell_type": "markdown",
   "id": "e7d5afe1",
   "metadata": {},
   "source": [
    "###  Linear Regression"
   ]
  },
  {
   "cell_type": "code",
   "execution_count": 58,
   "id": "ed1476af",
   "metadata": {},
   "outputs": [],
   "source": [
    "import torch\n",
    "import torch.nn as nn\n",
    "import numpy as np\n",
    "from sklearn import datasets\n",
    "import matplotlib.pyplot as plt\n",
    "from sklearn.preprocessing import StandardScaler\n",
    "from sklearn.model_selection import train_test_split"
   ]
  },
  {
   "cell_type": "markdown",
   "id": "664f6f54",
   "metadata": {},
   "source": [
    "##### 0) prepar data\n",
    "##### 1) Model\n",
    "##### 2) loss and optimizer\n",
    "##### 3) training loop"
   ]
  },
  {
   "cell_type": "markdown",
   "id": "293767f5",
   "metadata": {},
   "source": [
    "#### Prepar Dataset"
   ]
  },
  {
   "cell_type": "code",
   "execution_count": 53,
   "id": "c5fe30c8",
   "metadata": {},
   "outputs": [],
   "source": [
    "X_numpy , y_numpy = datasets.make_regression(n_samples=100,n_features=1,noise=20,random_state=1)\n",
    "X=torch.from_numpy(X_numpy.astype(np.float32))\n",
    "y=torch.from_numpy(y_numpy.astype(np.float32))\n",
    "y=y.view(y.shape[0],1)\n",
    "\n",
    "n_samples,n_features = X.shape"
   ]
  },
  {
   "cell_type": "markdown",
   "id": "8a37efdc",
   "metadata": {},
   "source": [
    "#### Model "
   ]
  },
  {
   "cell_type": "code",
   "execution_count": 54,
   "id": "9f0f4a25",
   "metadata": {},
   "outputs": [],
   "source": [
    "input_size =n_features\n",
    "output_size =1\n",
    "model = nn.Linear(input_size,output_size)"
   ]
  },
  {
   "cell_type": "markdown",
   "id": "32521057",
   "metadata": {},
   "source": [
    "#### Loss and Optimizer "
   ]
  },
  {
   "cell_type": "code",
   "execution_count": 55,
   "id": "d8995907",
   "metadata": {},
   "outputs": [],
   "source": [
    "learning_rate =0.01\n",
    "criterion = nn.MSELoss()\n",
    "optimiser =torch.optim.SGD(model.parameters(),lr=learning_rate)\n"
   ]
  },
  {
   "cell_type": "markdown",
   "id": "edee8ac1",
   "metadata": {},
   "source": [
    "#### Traning Loop"
   ]
  },
  {
   "cell_type": "code",
   "execution_count": 57,
   "id": "30f72cbc",
   "metadata": {},
   "outputs": [
    {
     "name": "stdout",
     "output_type": "stream",
     "text": [
      "epoch: 10,loss=4399.1846\n",
      "epoch: 20,loss=3281.4490\n",
      "epoch: 30,loss=2472.8616\n",
      "epoch: 40,loss=1887.2847\n",
      "epoch: 50,loss=1462.7872\n",
      "epoch: 60,loss=1154.7733\n",
      "epoch: 70,loss=931.0892\n",
      "epoch: 80,loss=768.5183\n",
      "epoch: 90,loss=650.2781\n",
      "epoch: 100,loss=564.2230\n"
     ]
    },
    {
     "data": {
      "image/png": "[encoded data removed]",
      "text/plain": [
       "<Figure size 432x288 with 1 Axes>"
      ]
     },
     "metadata": {
      "needs_background": "light"
     },
     "output_type": "display_data"
    }
   ],
   "source": [
    "num_epochs = 100\n",
    "\n",
    "for epoch in range(num_epochs):\n",
    "    \n",
    "    # forward pass and loss\n",
    "    y_predicted = model(X)\n",
    "    loss = criterion(y_predicted,y)\n",
    "    \n",
    "    # backward pass\n",
    "    loss.backward()\n",
    "    #update \n",
    "    optimiser.step()\n",
    "    optimiser.zero_grad()\n",
    "    \n",
    "    if (epoch+1) % 10 == 0:\n",
    "        print(f'epoch: {epoch+1},loss={loss.item():.4f}')\n",
    "        \n",
    "#Plot\n",
    "predicted =model(X).detach().numpy()\n",
    "plt.plot(X_numpy,y_numpy,'ro')\n",
    "plt.plot(X_numpy,predicted,'b')\n",
    "plt.show()"
   ]
  },
  {
   "cell_type": "markdown",
   "id": "186dbe06",
   "metadata": {},
   "source": [
    "###  Logistic Regression"
   ]
  },
  {
   "cell_type": "code",
   "execution_count": 59,
   "id": "5dbbc8af",
   "metadata": {},
   "outputs": [
    {
     "name": "stdout",
     "output_type": "stream",
     "text": [
      "569 30\n"
     ]
    }
   ],
   "source": [
    "bc = datasets.load_breast_cancer()\n",
    "X,y =bc.data ,bc.target\n",
    "n_samples ,n_features = X.shape\n",
    "print(n_samples,n_features)"
   ]
  },
  {
   "cell_type": "code",
   "execution_count": 60,
   "id": "b0ad6e73",
   "metadata": {},
   "outputs": [],
   "source": [
    "X_train,X_test,y_train,y_test =train_test_split(X,y,test_size=0.2,random_state=1234)\n",
    "sc = StandardScaler()\n",
    "X_train =sc.fit_transform(X_train)\n",
    "X_test =sc.transform(X_test)\n",
    "\n",
    "X_train =torch.from_numpy(X_train.astype(np.float32))\n",
    "X_test =torch.from_numpy(X_test.astype(np.float32))\n",
    "y_train =torch.from_numpy(y_train.astype(np.float32))\n",
    "y_test =torch.from_numpy(y_test.astype(np.float32))"
   ]
  },
  {
   "cell_type": "code",
   "execution_count": 61,
   "id": "59735730",
   "metadata": {},
   "outputs": [],
   "source": [
    "y_train =y_train.view(y_train.shape[0],1)\n",
    "y_test =y_test.view(y_test.shape[0],1)"
   ]
  },
  {
   "cell_type": "code",
   "execution_count": 70,
   "id": "51cc56c7",
   "metadata": {},
   "outputs": [
    {
     "name": "stdout",
     "output_type": "stream",
     "text": [
      "epoch: 10,loss=0.7012\n",
      "epoch: 20,loss=0.6371\n",
      "epoch: 30,loss=0.5813\n",
      "epoch: 40,loss=0.5334\n",
      "epoch: 50,loss=0.4924\n",
      "epoch: 60,loss=0.4573\n",
      "epoch: 70,loss=0.4271\n",
      "epoch: 80,loss=0.4009\n",
      "epoch: 90,loss=0.3780\n",
      "epoch: 100,loss=0.3579\n",
      "accuracy =0.8860\n"
     ]
    }
   ],
   "source": [
    "class LogisticRegression(nn.Module):\n",
    "    \n",
    "    def __init__(self,n_input_features):\n",
    "        \n",
    "        super(LogisticRegression,self).__init__()\n",
    "        self.linear= nn.Linear(n_input_features,1)\n",
    "        \n",
    "        \n",
    "    def forward(self,X):\n",
    "        y_predicted = torch.sigmoid(self.linear(X))\n",
    "        return y_predicted\n",
    "\n",
    "    \n",
    "model = LogisticRegression(n_features)\n",
    "\n",
    "criterion= nn.BCELoss()\n",
    "optimiser=torch.optim.Adam(model.parameters(),lr=0.001)\n",
    "\n",
    "num_epochs = 100\n",
    "\n",
    "for epoch in range(num_epochs):\n",
    "    \n",
    "    y_predicted= model(X_train)\n",
    "    loss= criterion(y_predicted,y_train)\n",
    "    \n",
    "    loss.backward()\n",
    "    optimiser.step()\n",
    "    \n",
    "    optimiser.zero_grad()\n",
    "    \n",
    "    if (epoch+1) % 10 == 0:\n",
    "        print(f'epoch: {epoch+1},loss={loss.item():.4f}')\n",
    "        \n",
    "with torch.no_grad():\n",
    "    \n",
    "        y_predicted = model(X_test)\n",
    "        y_predicted_cls = y_predicted.round()\n",
    "        acc=y_predicted_cls.eq(y_test).sum()/float(y_test.shape[0])\n",
    "        print(f'accuracy ={acc:.4f}')"
   ]
  },
  {
   "cell_type": "code",
   "execution_count": null,
   "id": "d4407c5d",
   "metadata": {},
   "outputs": [],
   "source": []
  }
 ],
 "metadata": {
  "kernelspec": {
   "display_name": "Python 3 (ipykernel)",
   "language": "python",
   "name": "python3"
  },
  "language_info": {
   "codemirror_mode": {
    "name": "ipython",
    "version": 3
   },
   "file_extension": ".py",
   "mimetype": "text/x-python",
   "name": "python",
   "nbconvert_exporter": "python",
   "pygments_lexer": "ipython3",
   "version": "3.8.0"
  }
 },
 "nbformat": 4,
 "nbformat_minor": 5
}
