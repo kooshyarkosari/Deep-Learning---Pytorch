{
 "cells": [
  {
   "cell_type": "code",
   "execution_count": 3,
   "id": "193d30b1",
   "metadata": {},
   "outputs": [],
   "source": [
    "import torch\n",
    "import torch.nn as nn\n",
    "import torchvision\n",
    "import torchvision.transforms as transforms\n",
    "import matplotlib.pyplot as plt"
   ]
  },
  {
   "cell_type": "code",
   "execution_count": 4,
   "id": "8b476001",
   "metadata": {},
   "outputs": [],
   "source": [
    "# device config\n",
    "\n",
    "device = torch.device('cuda' if torch.cuda.is_available() else 'cpu')"
   ]
  },
  {
   "cell_type": "code",
   "execution_count": 18,
   "id": "d65041a1",
   "metadata": {},
   "outputs": [],
   "source": [
    "# hyperparameter \n",
    "\n",
    "input_size = 784\n",
    "hidden_size = 100\n",
    "num_classes=  10\n",
    "num_epochs = 2\n",
    "batch_size= 100\n",
    "learning_rate =0.001\n"
   ]
  },
  {
   "cell_type": "code",
   "execution_count": 20,
   "id": "4f0f6bd4",
   "metadata": {},
   "outputs": [],
   "source": [
    "# MINIST Dataset\n",
    "\n",
    "train_dataset=torchvision.datasets.MNIST(root='./data',train = True,\n",
    "                                        transform = transforms.ToTensor(),download=True)\n",
    "test_dataset=torchvision.datasets.MNIST(root='./data',train = False,\n",
    "                                        transform = transforms.ToTensor())\n",
    "\n",
    "train_loader= torch.utils.data.DataLoader(dataset=train_dataset,batch_size=batch_size,shuffle = True)\n",
    "test_loader= torch.utils.data.DataLoader(dataset=test_dataset,batch_size=batch_size,shuffle =False)"
   ]
  },
  {
   "cell_type": "code",
   "execution_count": 21,
   "id": "8bcac121",
   "metadata": {},
   "outputs": [
    {
     "name": "stdout",
     "output_type": "stream",
     "text": [
      "torch.Size([100, 1, 28, 28]) torch.Size([100])\n"
     ]
    }
   ],
   "source": [
    "examples =iter(Train_loader)\n",
    "samples,labels = examples.next()\n",
    "print(samples.shape,labels.shape)"
   ]
  },
  {
   "cell_type": "code",
   "execution_count": 22,
   "id": "1bc838e4",
   "metadata": {},
   "outputs": [
    {
     "data": {
      "image/png": "[encoded data removed]",
      "text/plain": [
       "<Figure size 432x288 with 6 Axes>"
      ]
     },
     "metadata": {
      "needs_background": "light"
     },
     "output_type": "display_data"
    }
   ],
   "source": [
    "for i in range(6):\n",
    "    plt.subplot(2,3,i+1)\n",
    "    plt.imshow(samples[i][0],cmap='gray')\n",
    "plt.show()"
   ]
  },
  {
   "cell_type": "code",
   "execution_count": 23,
   "id": "69d05b0d",
   "metadata": {},
   "outputs": [
    {
     "name": "stdout",
     "output_type": "stream",
     "text": [
      "Epoch [1/2], Step [100/600], Loss: 0.5259\n",
      "Epoch [1/2], Step [200/600], Loss: 0.3422\n",
      "Epoch [1/2], Step [300/600], Loss: 0.2975\n",
      "Epoch [1/2], Step [400/600], Loss: 0.3725\n",
      "Epoch [1/2], Step [500/600], Loss: 0.2119\n",
      "Epoch [1/2], Step [600/600], Loss: 0.1578\n",
      "Epoch [2/2], Step [100/600], Loss: 0.1206\n",
      "Epoch [2/2], Step [200/600], Loss: 0.2535\n",
      "Epoch [2/2], Step [300/600], Loss: 0.1354\n",
      "Epoch [2/2], Step [400/600], Loss: 0.1696\n",
      "Epoch [2/2], Step [500/600], Loss: 0.1489\n",
      "Epoch [2/2], Step [600/600], Loss: 0.1625\n",
      "Accuracy of the network on the 10000 test images: 95.08 %\n"
     ]
    }
   ],
   "source": [
    "class NeuralNet(nn.Module):\n",
    "    def __init__(self, input_size, hidden_size, num_classes):\n",
    "        super(NeuralNet, self).__init__()\n",
    "        self.input_size = input_size\n",
    "        self.l1 = nn.Linear(input_size, hidden_size) \n",
    "        self.relu = nn.ReLU()\n",
    "        self.l2 = nn.Linear(hidden_size, num_classes)  \n",
    "    \n",
    "    def forward(self, x):\n",
    "        out = self.l1(x)\n",
    "        out = self.relu(out)\n",
    "        out = self.l2(out)\n",
    "        # no activation and no softmax at the end\n",
    "        return out\n",
    "\n",
    "model = NeuralNet(input_size, hidden_size, num_classes).to(device)\n",
    "\n",
    "# Loss and optimizer\n",
    "criterion = nn.CrossEntropyLoss()\n",
    "optimizer = torch.optim.Adam(model.parameters(), lr=learning_rate)  \n",
    "\n",
    "# Train the model\n",
    "n_total_steps = len(train_loader)\n",
    "for epoch in range(num_epochs):\n",
    "    for i, (images, labels) in enumerate(train_loader):  \n",
    "        # origin shape: [100, 1, 28, 28]\n",
    "        # resized: [100, 784]\n",
    "        images = images.reshape(-1, 28*28).to(device)\n",
    "        labels = labels.to(device)\n",
    "        \n",
    "        # Forward pass\n",
    "        outputs = model(images)\n",
    "        loss = criterion(outputs, labels)\n",
    "        \n",
    "        # Backward and optimize\n",
    "        optimizer.zero_grad()\n",
    "        loss.backward()\n",
    "        optimizer.step()\n",
    "        \n",
    "        if (i+1) % 100 == 0:\n",
    "            print (f'Epoch [{epoch+1}/{num_epochs}], Step [{i+1}/{n_total_steps}], Loss: {loss.item():.4f}')\n",
    "\n",
    "# Test the model\n",
    "# In test phase, we don't need to compute gradients (for memory efficiency)\n",
    "with torch.no_grad():\n",
    "    n_correct = 0\n",
    "    n_samples = 0\n",
    "    for images, labels in test_loader:\n",
    "        images = images.reshape(-1, 28*28).to(device)\n",
    "        labels = labels.to(device)\n",
    "        outputs = model(images)\n",
    "        # max returns (value ,index)\n",
    "        _, predicted = torch.max(outputs.data, 1)\n",
    "        n_samples += labels.size(0)\n",
    "        n_correct += (predicted == labels).sum().item()\n",
    "\n",
    "    acc = 100.0 * n_correct / n_samples\n",
    "    print(f'Accuracy of the network on the 10000 test images: {acc} %')"
   ]
  },
  {
   "cell_type": "code",
   "execution_count": null,
   "id": "30428545",
   "metadata": {},
   "outputs": [],
   "source": []
  }
 ],
 "metadata": {
  "kernelspec": {
   "display_name": "Python 3 (ipykernel)",
   "language": "python",
   "name": "python3"
  },
  "language_info": {
   "codemirror_mode": {
    "name": "ipython",
    "version": 3
   },
   "file_extension": ".py",
   "mimetype": "text/x-python",
   "name": "python",
   "nbconvert_exporter": "python",
   "pygments_lexer": "ipython3",
   "version": "3.8.0"
  }
 },
 "nbformat": 4,
 "nbformat_minor": 5
}
